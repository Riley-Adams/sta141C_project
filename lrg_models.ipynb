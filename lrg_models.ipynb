{
 "cells": [
  {
   "cell_type": "code",
   "execution_count": 1,
   "metadata": {},
   "outputs": [],
   "source": [
    "# import modules\n",
    "import numpy as np\n",
    "import pandas as pd\n",
    "import time\n",
    "from sklearn.linear_model import LinearRegression, RidgeCV, LassoCV\n",
    "from sklearn.metrics import mean_squared_error\n",
    "import gsblr"
   ]
  },
  {
   "cell_type": "code",
   "execution_count": 2,
   "metadata": {},
   "outputs": [],
   "source": [
    "# import data\n",
    "X_train = np.loadtxt('data/large_model/X_train.txt', delimiter=',')\n",
    "y_train = np.loadtxt('data/large_model/y_train.txt', delimiter=',')\n",
    "X_test = np.loadtxt('data/large_model/X_test.txt', delimiter=',')\n",
    "y_test = np.loadtxt('data/large_model/y_test.txt', delimiter=',')"
   ]
  },
  {
   "attachments": {},
   "cell_type": "markdown",
   "metadata": {},
   "source": [
    "### Linear Regression"
   ]
  },
  {
   "cell_type": "code",
   "execution_count": 5,
   "metadata": {},
   "outputs": [],
   "source": [
    "# begin timer\n",
    "start = time.time()\n",
    "\n",
    "# fit linear regression model\n",
    "linreg_model = LinearRegression().fit(X_train, y_train)\n",
    "\n",
    "# end timer\n",
    "linreg_time = time.time() - start"
   ]
  },
  {
   "cell_type": "code",
   "execution_count": 6,
   "metadata": {},
   "outputs": [],
   "source": [
    "# linear regression coefficients\n",
    "linreg_coef = linreg_model.coef_\n",
    "\n",
    "# predict with linreg model\n",
    "linreg_pred = linreg_model.predict(X_test)\n",
    "\n",
    "# MSE for linreg model\n",
    "linreg_mse = mean_squared_error(y_test, linreg_pred)"
   ]
  },
  {
   "attachments": {},
   "cell_type": "markdown",
   "metadata": {},
   "source": [
    "### Ridge"
   ]
  },
  {
   "cell_type": "code",
   "execution_count": 7,
   "metadata": {},
   "outputs": [],
   "source": [
    "# begin timer\n",
    "start = time.time()\n",
    "\n",
    "# fit ridge regression model with cross validation\n",
    "ridge_model = RidgeCV().fit(X_train, y_train)\n",
    "\n",
    "# end timer\n",
    "ridge_time = time.time() - start"
   ]
  },
  {
   "cell_type": "code",
   "execution_count": 8,
   "metadata": {},
   "outputs": [
    {
     "data": {
      "text/plain": [
       "1.0"
      ]
     },
     "execution_count": 8,
     "metadata": {},
     "output_type": "execute_result"
    }
   ],
   "source": [
    "# ridge \"alpha\" parameter (lambda)\n",
    "ridge_model.alpha_"
   ]
  },
  {
   "cell_type": "code",
   "execution_count": 9,
   "metadata": {},
   "outputs": [],
   "source": [
    "# ridge coefficients\n",
    "ridge_coef = ridge_model.coef_\n",
    "\n",
    "# predict with ridge model\n",
    "ridge_pred = ridge_model.predict(X_test)\n",
    "\n",
    "# MSE for ridge model\n",
    "ridge_mse = mean_squared_error(y_test, ridge_pred)"
   ]
  },
  {
   "attachments": {},
   "cell_type": "markdown",
   "metadata": {},
   "source": [
    "### LASSO"
   ]
  },
  {
   "cell_type": "code",
   "execution_count": 10,
   "metadata": {},
   "outputs": [],
   "source": [
    "# begin timer\n",
    "start = time.time()\n",
    "\n",
    "# fit lasso regression model with cross validation\n",
    "lasso_model = LassoCV(random_state=141).fit(X_train, y_train)\n",
    "\n",
    "# end timer\n",
    "lasso_time = time.time() - start"
   ]
  },
  {
   "cell_type": "code",
   "execution_count": 11,
   "metadata": {},
   "outputs": [
    {
     "data": {
      "text/plain": [
       "19.48740023977807"
      ]
     },
     "execution_count": 11,
     "metadata": {},
     "output_type": "execute_result"
    }
   ],
   "source": [
    "# lasso \"alpha\" parameter (lambda)\n",
    "lasso_model.alpha_ "
   ]
  },
  {
   "cell_type": "code",
   "execution_count": 12,
   "metadata": {},
   "outputs": [],
   "source": [
    "# lasso coefficients\n",
    "lasso_coef = lasso_model.coef_\n",
    "\n",
    "# predict with lasso model\n",
    "lasso_pred = lasso_model.predict(X_test)\n",
    "\n",
    "# MSE for lasso model\n",
    "lasso_mse = mean_squared_error(y_test, lasso_pred)"
   ]
  },
  {
   "attachments": {},
   "cell_type": "markdown",
   "metadata": {},
   "source": [
    "### Gibbs"
   ]
  },
  {
   "attachments": {},
   "cell_type": "markdown",
   "metadata": {},
   "source": [
    "#### Iterations: 5000, Burn proportion: .5"
   ]
  },
  {
   "cell_type": "code",
   "execution_count": 13,
   "metadata": {},
   "outputs": [],
   "source": [
    "# begin timer\n",
    "start = time.time()\n",
    "\n",
    "# initialize gibbs sampler\n",
    "gibbs = gsblr.Gsblr(rseed=141)\n",
    "\n",
    "# fit gibbs sampler\n",
    "gibbs.fit(X_train, y_train)\n",
    "\n",
    "# end timer\n",
    "gibbs_time = time.time() - start"
   ]
  },
  {
   "cell_type": "code",
   "execution_count": 14,
   "metadata": {},
   "outputs": [],
   "source": [
    "# gibbs coefficients\n",
    "gibbs_coef = gibbs.get_coef().values\n",
    "\n",
    "# predict with gibbs\n",
    "gibbs_pred = gibbs.predict(X_test)\n",
    "\n",
    "# MSE for gibbs\n",
    "gibbs_mse = mean_squared_error(y_test, gibbs_pred)"
   ]
  },
  {
   "attachments": {},
   "cell_type": "markdown",
   "metadata": {},
   "source": [
    "#### Iterations: 100, Burn proportion: .3"
   ]
  },
  {
   "cell_type": "code",
   "execution_count": 3,
   "metadata": {},
   "outputs": [],
   "source": [
    "# begin timer\n",
    "start = time.time()\n",
    "\n",
    "#initialize gibbs sampler\n",
    "gibbs_2 = gsblr.Gsblr(rseed=141, burn_prop=0.3)\n",
    "\n",
    "# fit gibbs_2 sampler\n",
    "gibbs_2.fit(X_train, y_train, niter= 100)\n",
    "\n",
    "# end time\n",
    "gibbs_time_2 = time.time() - start"
   ]
  },
  {
   "cell_type": "code",
   "execution_count": 5,
   "metadata": {},
   "outputs": [],
   "source": [
    "# predict with gibbs_2\n",
    "gibbs_2_pred = gibbs_2.predict(X_test)\n",
    "\n",
    "# MSE for gibbs_2\n",
    "gibbs_2_mse = mean_squared_error(y_test, gibbs_2_pred)"
   ]
  },
  {
   "cell_type": "code",
   "execution_count": 7,
   "metadata": {},
   "outputs": [
    {
     "data": {
      "text/plain": [
       "Runtime    6.110638e+01\n",
       "MSE        2.766680e+07\n",
       "dtype: float64"
      ]
     },
     "execution_count": 7,
     "metadata": {},
     "output_type": "execute_result"
    }
   ],
   "source": [
    "# results for gibbs_2\n",
    "pd.Series({'Runtime': gibbs_time_2,\n",
    "           'MSE': gibbs_2_mse})"
   ]
  },
  {
   "attachments": {},
   "cell_type": "markdown",
   "metadata": {},
   "source": [
    "### Data Summary"
   ]
  },
  {
   "cell_type": "code",
   "execution_count": 15,
   "metadata": {},
   "outputs": [],
   "source": [
    "# create datafram to summarize results\n",
    "lrg_results = pd.DataFrame({\n",
    "    'Method': ['Linreg', 'Ridge', 'LASSO', 'Gibbs'],\n",
    "    'MSE': [linreg_mse, ridge_mse, lasso_mse, gibbs_mse],\n",
    "    'runtime': [linreg_time, ridge_time, lasso_time, gibbs_time]\n",
    "})"
   ]
  },
  {
   "cell_type": "code",
   "execution_count": 16,
   "metadata": {},
   "outputs": [
    {
     "data": {
      "text/html": [
       "<div>\n",
       "<style scoped>\n",
       "    .dataframe tbody tr th:only-of-type {\n",
       "        vertical-align: middle;\n",
       "    }\n",
       "\n",
       "    .dataframe tbody tr th {\n",
       "        vertical-align: top;\n",
       "    }\n",
       "\n",
       "    .dataframe thead th {\n",
       "        text-align: right;\n",
       "    }\n",
       "</style>\n",
       "<table border=\"1\" class=\"dataframe\">\n",
       "  <thead>\n",
       "    <tr style=\"text-align: right;\">\n",
       "      <th></th>\n",
       "      <th>Method</th>\n",
       "      <th>beta1</th>\n",
       "      <th>beta2</th>\n",
       "      <th>beta3</th>\n",
       "      <th>beta4</th>\n",
       "      <th>beta5</th>\n",
       "      <th>beta6</th>\n",
       "      <th>MSE</th>\n",
       "      <th>runtime</th>\n",
       "    </tr>\n",
       "  </thead>\n",
       "  <tbody>\n",
       "    <tr>\n",
       "      <th>0</th>\n",
       "      <td>Linreg</td>\n",
       "      <td>6.124909</td>\n",
       "      <td>-0.001875</td>\n",
       "      <td>-1.650160</td>\n",
       "      <td>-0.117208</td>\n",
       "      <td>-12.022863</td>\n",
       "      <td>0.027118</td>\n",
       "      <td>2.791440e+07</td>\n",
       "      <td>0.480088</td>\n",
       "    </tr>\n",
       "    <tr>\n",
       "      <th>1</th>\n",
       "      <td>Ridge</td>\n",
       "      <td>6.125189</td>\n",
       "      <td>-0.001857</td>\n",
       "      <td>-1.649308</td>\n",
       "      <td>-0.116445</td>\n",
       "      <td>-12.023024</td>\n",
       "      <td>0.027249</td>\n",
       "      <td>2.791382e+07</td>\n",
       "      <td>0.603109</td>\n",
       "    </tr>\n",
       "    <tr>\n",
       "      <th>2</th>\n",
       "      <td>LASSO</td>\n",
       "      <td>6.032212</td>\n",
       "      <td>-0.024099</td>\n",
       "      <td>-1.455686</td>\n",
       "      <td>-0.000000</td>\n",
       "      <td>-11.872269</td>\n",
       "      <td>-0.000000</td>\n",
       "      <td>2.769916e+07</td>\n",
       "      <td>5.262211</td>\n",
       "    </tr>\n",
       "    <tr>\n",
       "      <th>3</th>\n",
       "      <td>Gibbs</td>\n",
       "      <td>6.125067</td>\n",
       "      <td>-0.002550</td>\n",
       "      <td>-1.650963</td>\n",
       "      <td>-0.117381</td>\n",
       "      <td>-12.022238</td>\n",
       "      <td>0.026746</td>\n",
       "      <td>2.791400e+07</td>\n",
       "      <td>3162.128275</td>\n",
       "    </tr>\n",
       "  </tbody>\n",
       "</table>\n",
       "</div>"
      ],
      "text/plain": [
       "   Method     beta1     beta2     beta3     beta4      beta5     beta6  \\\n",
       "0  Linreg  6.124909 -0.001875 -1.650160 -0.117208 -12.022863  0.027118   \n",
       "1   Ridge  6.125189 -0.001857 -1.649308 -0.116445 -12.023024  0.027249   \n",
       "2   LASSO  6.032212 -0.024099 -1.455686 -0.000000 -11.872269 -0.000000   \n",
       "3   Gibbs  6.125067 -0.002550 -1.650963 -0.117381 -12.022238  0.026746   \n",
       "\n",
       "            MSE      runtime  \n",
       "0  2.791440e+07     0.480088  \n",
       "1  2.791382e+07     0.603109  \n",
       "2  2.769916e+07     5.262211  \n",
       "3  2.791400e+07  3162.128275  "
      ]
     },
     "execution_count": 16,
     "metadata": {},
     "output_type": "execute_result"
    }
   ],
   "source": [
    "# view results\n",
    "lrg_results"
   ]
  },
  {
   "cell_type": "code",
   "execution_count": 17,
   "metadata": {},
   "outputs": [],
   "source": [
    "# save results\n",
    "lrg_results.to_csv('lrg_model_results.csv')"
   ]
  }
 ],
 "metadata": {
  "kernelspec": {
   "display_name": "Python 3",
   "language": "python",
   "name": "python3"
  },
  "language_info": {
   "codemirror_mode": {
    "name": "ipython",
    "version": 3
   },
   "file_extension": ".py",
   "mimetype": "text/x-python",
   "name": "python",
   "nbconvert_exporter": "python",
   "pygments_lexer": "ipython3",
   "version": "3.10.10"
  },
  "orig_nbformat": 4
 },
 "nbformat": 4,
 "nbformat_minor": 2
}
