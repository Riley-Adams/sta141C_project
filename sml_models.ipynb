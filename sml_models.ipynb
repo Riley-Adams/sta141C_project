{
 "cells": [
  {
   "cell_type": "code",
   "execution_count": 1,
   "metadata": {},
   "outputs": [],
   "source": [
    "# import modules\n",
    "import numpy as np\n",
    "import pandas as pd\n",
    "from sklearn.linear_model import LinearRegression, RidgeCV, LassoCV\n",
    "from sklearn.metrics import mean_squared_error\n",
    "import gsblr"
   ]
  },
  {
   "cell_type": "code",
   "execution_count": 2,
   "metadata": {},
   "outputs": [],
   "source": [
    "# import data\n",
    "X_train = np.loadtxt('data/small_model/X_train.txt', delimiter=',')\n",
    "y_train = np.loadtxt('data/small_model/y_train.txt', delimiter=',')\n",
    "X_test = np.loadtxt('data/small_model/X_test.txt', delimiter=',')\n",
    "y_test = np.loadtxt('data/small_model/y_test.txt', delimiter=',')\n",
    "\n",
    "betas = np.loadtxt('data/small_model/betas.txt', delimiter=',')"
   ]
  },
  {
   "attachments": {},
   "cell_type": "markdown",
   "metadata": {},
   "source": [
    "### Linear Regression"
   ]
  },
  {
   "cell_type": "code",
   "execution_count": 3,
   "metadata": {},
   "outputs": [],
   "source": [
    "# fit linear regression model\n",
    "linreg_model = LinearRegression().fit(X_train, y_train)\n",
    "\n",
    "# linear regression coefficients\n",
    "linreg_coef = linreg_model.coef_\n",
    "\n",
    "# predict with linreg model\n",
    "linreg_pred = linreg_model.predict(X_test)\n",
    "\n",
    "# MSE for linreg model\n",
    "linreg_mse = mean_squared_error(y_test, linreg_pred)"
   ]
  },
  {
   "attachments": {},
   "cell_type": "markdown",
   "metadata": {},
   "source": [
    "### Ridge"
   ]
  },
  {
   "cell_type": "code",
   "execution_count": 4,
   "metadata": {},
   "outputs": [
    {
     "data": {
      "text/plain": [
       "10.0"
      ]
     },
     "execution_count": 4,
     "metadata": {},
     "output_type": "execute_result"
    }
   ],
   "source": [
    "# fit ridge regression model with cross validation\n",
    "ridge_model = RidgeCV().fit(X_train, y_train)\n",
    "\n",
    "# ridge \"alpha\" parameter (lambda)\n",
    "ridge_model.alpha_ "
   ]
  },
  {
   "cell_type": "code",
   "execution_count": 5,
   "metadata": {},
   "outputs": [],
   "source": [
    "# ridge coefficients\n",
    "ridge_coef = ridge_model.coef_\n",
    "\n",
    "# predict with ridge model\n",
    "ridge_pred = ridge_model.predict(X_test)\n",
    "\n",
    "# MSE for ridge model\n",
    "ridge_mse = mean_squared_error(y_test, ridge_pred)"
   ]
  },
  {
   "attachments": {},
   "cell_type": "markdown",
   "metadata": {},
   "source": [
    "### LASSO"
   ]
  },
  {
   "cell_type": "code",
   "execution_count": 6,
   "metadata": {},
   "outputs": [
    {
     "data": {
      "text/plain": [
       "0.923956785933777"
      ]
     },
     "execution_count": 6,
     "metadata": {},
     "output_type": "execute_result"
    }
   ],
   "source": [
    "# fit lasso regression model with cross validation\n",
    "lasso_model = LassoCV(random_state=141).fit(X_train, y_train)\n",
    "\n",
    "# lasso \"alpha\" parameter (lambda)\n",
    "lasso_model.alpha_ "
   ]
  },
  {
   "cell_type": "code",
   "execution_count": 7,
   "metadata": {},
   "outputs": [],
   "source": [
    "# lasso coefficients\n",
    "lasso_coef = lasso_model.coef_\n",
    "\n",
    "# predict with lasso model\n",
    "lasso_pred = lasso_model.predict(X_test)\n",
    "\n",
    "# MSE for lasso model\n",
    "lasso_mse = mean_squared_error(y_test, lasso_pred)"
   ]
  },
  {
   "attachments": {},
   "cell_type": "markdown",
   "metadata": {},
   "source": [
    "### Gibbs"
   ]
  },
  {
   "cell_type": "code",
   "execution_count": 8,
   "metadata": {},
   "outputs": [],
   "source": [
    "# initialize gibbs sampler\n",
    "gibbs = gsblr.Gsblr(rseed=141)\n",
    "\n",
    "# fit gibbs sampler\n",
    "gibbs.fit(X_train, y_train)\n",
    "\n",
    "# gibbs coefficients\n",
    "gibbs_coef = gibbs.get_coef().values\n",
    "\n",
    "# predict with gibbs\n",
    "gibbs_pred = gibbs.predict(X_test)\n",
    "\n",
    "# MSE for gibbs\n",
    "gibbs_mse = mean_squared_error(y_test, gibbs_pred)"
   ]
  },
  {
   "attachments": {},
   "cell_type": "markdown",
   "metadata": {},
   "source": [
    "### Data Summary"
   ]
  },
  {
   "cell_type": "code",
   "execution_count": 9,
   "metadata": {},
   "outputs": [
    {
     "data": {
      "text/html": [
       "<div>\n",
       "<style scoped>\n",
       "    .dataframe tbody tr th:only-of-type {\n",
       "        vertical-align: middle;\n",
       "    }\n",
       "\n",
       "    .dataframe tbody tr th {\n",
       "        vertical-align: top;\n",
       "    }\n",
       "\n",
       "    .dataframe thead th {\n",
       "        text-align: right;\n",
       "    }\n",
       "</style>\n",
       "<table border=\"1\" class=\"dataframe\">\n",
       "  <thead>\n",
       "    <tr style=\"text-align: right;\">\n",
       "      <th></th>\n",
       "      <th>true_coef</th>\n",
       "      <th>linreg_coef</th>\n",
       "      <th>ridge_coef</th>\n",
       "      <th>lasso_coef</th>\n",
       "      <th>gibbs_coef</th>\n",
       "    </tr>\n",
       "  </thead>\n",
       "  <tbody>\n",
       "    <tr>\n",
       "      <th>0</th>\n",
       "      <td>7.0</td>\n",
       "      <td>6.945047</td>\n",
       "      <td>6.942184</td>\n",
       "      <td>6.938708</td>\n",
       "      <td>6.943393</td>\n",
       "    </tr>\n",
       "    <tr>\n",
       "      <th>1</th>\n",
       "      <td>1.0</td>\n",
       "      <td>0.970877</td>\n",
       "      <td>0.970560</td>\n",
       "      <td>0.961613</td>\n",
       "      <td>0.968138</td>\n",
       "    </tr>\n",
       "    <tr>\n",
       "      <th>2</th>\n",
       "      <td>0.0</td>\n",
       "      <td>0.833671</td>\n",
       "      <td>0.796489</td>\n",
       "      <td>0.000000</td>\n",
       "      <td>0.581158</td>\n",
       "    </tr>\n",
       "    <tr>\n",
       "      <th>3</th>\n",
       "      <td>4.0</td>\n",
       "      <td>3.980728</td>\n",
       "      <td>3.980158</td>\n",
       "      <td>3.977486</td>\n",
       "      <td>3.981427</td>\n",
       "    </tr>\n",
       "    <tr>\n",
       "      <th>4</th>\n",
       "      <td>3.0</td>\n",
       "      <td>2.920467</td>\n",
       "      <td>2.910189</td>\n",
       "      <td>2.814856</td>\n",
       "      <td>2.911239</td>\n",
       "    </tr>\n",
       "    <tr>\n",
       "      <th>5</th>\n",
       "      <td>0.0</td>\n",
       "      <td>0.491147</td>\n",
       "      <td>0.443575</td>\n",
       "      <td>0.000000</td>\n",
       "      <td>-0.253574</td>\n",
       "    </tr>\n",
       "  </tbody>\n",
       "</table>\n",
       "</div>"
      ],
      "text/plain": [
       "   true_coef  linreg_coef  ridge_coef  lasso_coef  gibbs_coef\n",
       "0        7.0     6.945047    6.942184    6.938708    6.943393\n",
       "1        1.0     0.970877    0.970560    0.961613    0.968138\n",
       "2        0.0     0.833671    0.796489    0.000000    0.581158\n",
       "3        4.0     3.980728    3.980158    3.977486    3.981427\n",
       "4        3.0     2.920467    2.910189    2.814856    2.911239\n",
       "5        0.0     0.491147    0.443575    0.000000   -0.253574"
      ]
     },
     "execution_count": 9,
     "metadata": {},
     "output_type": "execute_result"
    }
   ],
   "source": [
    "# create dataframe of all regression coefficients\n",
    "coef_df = pd.DataFrame({'true_coef': betas,\n",
    "                        'linreg_coef': linreg_coef,\n",
    "                        'ridge_coef': ridge_coef,\n",
    "                        'lasso_coef': lasso_coef,\n",
    "                        'gibbs_coef': gibbs_coef}\n",
    "                        )\n",
    "\n",
    "coef_df"
   ]
  },
  {
   "cell_type": "code",
   "execution_count": 10,
   "metadata": {},
   "outputs": [
    {
     "data": {
      "text/plain": [
       "linreg_mse    84.387118\n",
       "ridge_mse     84.344407\n",
       "lasso_mse     83.401259\n",
       "gibbs_mse     83.736562\n",
       "dtype: float64"
      ]
     },
     "execution_count": 10,
     "metadata": {},
     "output_type": "execute_result"
    }
   ],
   "source": [
    "# create dataframe of MSE for each model\n",
    "mse_df = pd.Series(data=[linreg_mse, ridge_mse, lasso_mse, gibbs_mse],\n",
    "                   index= ['linreg_mse', 'ridge_mse', 'lasso_mse', 'gibbs_mse'])\n",
    "\n",
    "mse_df"
   ]
  },
  {
   "cell_type": "code",
   "execution_count": 15,
   "metadata": {},
   "outputs": [],
   "source": [
    "# dataframe of gibbs samples (excluding burned samples)\n",
    "gibbs_samples = gibbs.get_samples()\n",
    "\n",
    "# save to csv\n",
    "gibbs_samples.to_csv('gibbs_samples.csv')\n",
    "coef_df.to_csv('coefs_data.csv')"
   ]
  }
 ],
 "metadata": {
  "kernelspec": {
   "display_name": "Python 3",
   "language": "python",
   "name": "python3"
  },
  "language_info": {
   "codemirror_mode": {
    "name": "ipython",
    "version": 3
   },
   "file_extension": ".py",
   "mimetype": "text/x-python",
   "name": "python",
   "nbconvert_exporter": "python",
   "pygments_lexer": "ipython3",
   "version": "3.10.10"
  },
  "orig_nbformat": 4
 },
 "nbformat": 4,
 "nbformat_minor": 2
}
