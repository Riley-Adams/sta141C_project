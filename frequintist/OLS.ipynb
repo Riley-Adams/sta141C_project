{
 "cells": [
  {
   "cell_type": "code",
   "execution_count": 4,
   "metadata": {},
   "outputs": [],
   "source": [
    "# import modules\n",
    "import numpy as np\n",
    "from scipy.linalg import inv\n",
    "from sklearn.linear_model import LinearRegression"
   ]
  },
  {
   "cell_type": "code",
   "execution_count": 6,
   "metadata": {},
   "outputs": [],
   "source": [
    "# load data\n",
    "X = np.loadtxt('../data/X.txt', delimiter=',')\n",
    "Y = np.loadtxt('../data/Y.txt', delimiter=',')"
   ]
  },
  {
   "cell_type": "code",
   "execution_count": 7,
   "metadata": {},
   "outputs": [],
   "source": [
    "# define n, p\n",
    "n = X.shape[0]\n",
    "p = X.shape[1]\n"
   ]
  },
  {
   "cell_type": "code",
   "execution_count": 8,
   "metadata": {},
   "outputs": [],
   "source": [
    "## estimate regression coefficients using Cholesky Decomposition to solve OLS\n",
    "\n",
    "# calculate X'X\n",
    "XtX = X.T @ X\n",
    "\n",
    "# perform Cholesky Decomposition\n",
    "L = np.linalg.cholesky(XtX)\n",
    "\n",
    "# calculate inv(X'X)\n",
    "XtX_inv = inv(L @ L.T)\n",
    "\n",
    "# calculate estimates for regression coefficients\n",
    "beta_hat = XtX_inv @ X.T @ Y"
   ]
  },
  {
   "cell_type": "code",
   "execution_count": 9,
   "metadata": {},
   "outputs": [],
   "source": [
    "# create instance of LinearRegression class, fit model\n",
    "model = LinearRegression().fit(X,Y)"
   ]
  },
  {
   "cell_type": "code",
   "execution_count": 11,
   "metadata": {},
   "outputs": [],
   "source": [
    "# save results\n",
    "np.savetxt('cholesky_est.txt', beta_hat, delimiter=',')\n",
    "np.savetxt('skl_linreg_est.txt', model.coef_ , delimiter= ',' )"
   ]
  }
 ],
 "metadata": {
  "kernelspec": {
   "display_name": "Python 3",
   "language": "python",
   "name": "python3"
  },
  "language_info": {
   "codemirror_mode": {
    "name": "ipython",
    "version": 3
   },
   "file_extension": ".py",
   "mimetype": "text/x-python",
   "name": "python",
   "nbconvert_exporter": "python",
   "pygments_lexer": "ipython3",
   "version": "3.10.10"
  },
  "orig_nbformat": 4
 },
 "nbformat": 4,
 "nbformat_minor": 2
}
