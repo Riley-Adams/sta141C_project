{
 "cells": [
  {
   "cell_type": "code",
   "execution_count": 1,
   "metadata": {},
   "outputs": [],
   "source": [
    "# import modules\n",
    "import numpy as np"
   ]
  },
  {
   "cell_type": "code",
   "execution_count": 2,
   "metadata": {},
   "outputs": [],
   "source": [
    "# create instance of generator\n",
    "rng = np.random.default_rng(141)"
   ]
  },
  {
   "cell_type": "code",
   "execution_count": 3,
   "metadata": {},
   "outputs": [],
   "source": [
    "# define n, p\n",
    "n = 1500\n",
    "p = 1000"
   ]
  },
  {
   "cell_type": "code",
   "execution_count": 4,
   "metadata": {},
   "outputs": [],
   "source": [
    "## generate G\n",
    "# a matrix with 1's and 0's on diag\n",
    "# 0's make corresponding betas insignificant\n",
    "G = np.diag(rng.binomial(n=1, p=0.7, size=p))"
   ]
  },
  {
   "cell_type": "code",
   "execution_count": 5,
   "metadata": {},
   "outputs": [],
   "source": [
    "## generate betas (vector of length p)\n",
    "\n",
    "# covariance matrix\n",
    "betas_cov = np.diag(rng.uniform(0,20, p))\n",
    "\n",
    "# means vector\n",
    "betas_means = rng.uniform(-10,10,p)\n",
    "\n",
    "# draw betas\n",
    "betas = rng.multivariate_normal(betas_means, betas_cov)"
   ]
  },
  {
   "cell_type": "code",
   "execution_count": 6,
   "metadata": {},
   "outputs": [],
   "source": [
    "## generate X (n rows, p columns)\n",
    "X = rng.uniform(0,100,(n,p))"
   ]
  },
  {
   "cell_type": "code",
   "execution_count": 7,
   "metadata": {},
   "outputs": [],
   "source": [
    "## generate error terms\n",
    "\n",
    "# sigma^2\n",
    "sig2 = rng.gamma(shape=1)\n",
    "\n",
    "# covariance matrix\n",
    "err_cov = sig2 * np.identity(n)\n",
    "\n",
    "# means vector\n",
    "err_mean = np.zeros(n)\n",
    "\n",
    "# error terms\n",
    "err = rng.multivariate_normal(err_mean, err_cov)"
   ]
  },
  {
   "cell_type": "code",
   "execution_count": 8,
   "metadata": {},
   "outputs": [],
   "source": [
    "## generate Y\n",
    "Y = X @ (G @ betas) + err"
   ]
  },
  {
   "cell_type": "code",
   "execution_count": 9,
   "metadata": {},
   "outputs": [],
   "source": [
    "# store simulated data\n",
    "np.savetxt('G.txt', G, delimiter=',')\n",
    "np.savetxt('betas.txt', betas, delimiter=',')\n",
    "np.savetxt('X.txt', X, delimiter=',')\n",
    "np.savetxt('err.txt', err, delimiter=',')\n",
    "np.savetxt('Y.txt', Y, delimiter=',')\n",
    "np.savetxt('sig2', np.array(sig2).ravel(), delimiter=',')\n",
    "np.savetxt('betas_cov', betas_cov, delimiter=',')\n",
    "np.savetxt('betas_means', betas_means, delimiter=',')"
   ]
  }
 ],
 "metadata": {
  "kernelspec": {
   "display_name": "Python 3",
   "language": "python",
   "name": "python3"
  },
  "language_info": {
   "codemirror_mode": {
    "name": "ipython",
    "version": 3
   },
   "file_extension": ".py",
   "mimetype": "text/x-python",
   "name": "python",
   "nbconvert_exporter": "python",
   "pygments_lexer": "ipython3",
   "version": "3.10.10"
  },
  "orig_nbformat": 4
 },
 "nbformat": 4,
 "nbformat_minor": 2
}
